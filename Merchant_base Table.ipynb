{
 "cells": [
  {
   "cell_type": "code",
   "execution_count": 1,
   "metadata": {
    "execution": {
     "iopub.execute_input": "2024-01-12T16:56:33.546166Z",
     "iopub.status.busy": "2024-01-12T16:56:33.545506Z",
     "iopub.status.idle": "2024-01-12T16:56:33.607108Z",
     "shell.execute_reply": "2024-01-12T16:56:33.605893Z",
     "shell.execute_reply.started": "2024-01-12T16:56:33.546070Z"
    }
   },
   "outputs": [],
   "source": [
    "%config PPMagics.domain=\"ccg24-hrzana-fpa-global-bi\"\n",
    "%reload_ext cloudmagics.bigquery"
   ]
  },
  {
   "cell_type": "markdown",
   "metadata": {},
   "source": [
    "### Rcvr Table"
   ]
  },
  {
   "cell_type": "code",
   "execution_count": 2,
   "metadata": {
    "execution": {
     "iopub.execute_input": "2024-01-12T16:56:34.766793Z",
     "iopub.status.busy": "2024-01-12T16:56:34.766223Z",
     "iopub.status.idle": "2024-01-12T17:00:10.719094Z",
     "shell.execute_reply": "2024-01-12T17:00:10.717848Z",
     "shell.execute_reply.started": "2024-01-12T16:56:34.766719Z"
    }
   },
   "outputs": [
    {
     "name": "stdout",
     "output_type": "stream",
     "text": [
      "Establishing new BigQuery Client\n"
     ]
    },
    {
     "data": {
      "application/vnd.jupyter.widget-view+json": {
       "model_id": "f21cb72fd5344febb169463a1d39b49d",
       "version_major": 2,
       "version_minor": 0
      },
      "text/plain": [
       "HTML(value='')"
      ]
     },
     "metadata": {},
     "output_type": "display_data"
    },
    {
     "name": "stdout",
     "output_type": "stream",
     "text": [
      "job id =  g3pnDZgCwdKO7m6yU5p5IorHqZG\n",
      "Time executed =  -63840675407.914  seconds\n"
     ]
    },
    {
     "data": {
      "application/vnd.jupyter.widget-view+json": {
       "model_id": "4fb822be1bc144eba2a497f29e4c31b3",
       "version_major": 2,
       "version_minor": 0
      },
      "text/plain": [
       "HTML(value='')"
      ]
     },
     "metadata": {},
     "output_type": "display_data"
    },
    {
     "data": {
      "application/vnd.jupyter.widget-view+json": {
       "model_id": "e1e2213677364a23bd255a6540fff9d3",
       "version_major": 2,
       "version_minor": 0
      },
      "text/plain": [
       "DownloadWidget(children=(HBox(children=(Dropdown(description='File Type:', index=1, options=('tde', 'csv', 'js…"
      ]
     },
     "metadata": {},
     "output_type": "display_data"
    },
    {
     "data": {
      "text/html": [
       "<table>\n",
       "    <tr>\n",
       "        <th>mth_id</th>\n",
       "        <th>transaction_month</th>\n",
       "        <th>cust_id</th>\n",
       "        <th>pp_bt_cust_id</th>\n",
       "        <th>cust_acct_clsfn_key</th>\n",
       "        <th>sales_seg</th>\n",
       "        <th>market</th>\n",
       "        <th>sub_market</th>\n",
       "        <th>Region</th>\n",
       "        <th>cntry_code</th>\n",
       "        <th>prod_grp_l1</th>\n",
       "        <th>prod_grp_l2</th>\n",
       "        <th>prod_grp_l3</th>\n",
       "        <th>trade_flow</th>\n",
       "        <th>txn_prod_channel</th>\n",
       "        <th>new_x_sell_retention_flag</th>\n",
       "        <th>Activity_seg</th>\n",
       "        <th>mercury_sector_name</th>\n",
       "        <th>mercury_industry_name</th>\n",
       "        <th>Managed_flag</th>\n",
       "        <th>account_type</th>\n",
       "        <th>txn_cnt</th>\n",
       "        <th>ntpv</th>\n",
       "        <th>revenue</th>\n",
       "        <th>margin</th>\n",
       "        <th>cost</th>\n",
       "        <th>loss</th>\n",
       "    </tr>\n",
       "</table>"
      ],
      "text/plain": [
       "Empty DataFrame\n",
       "Columns: [mth_id, transaction_month, cust_id, pp_bt_cust_id, cust_acct_clsfn_key, sales_seg, market, sub_market, Region, cntry_code, prod_grp_l1, prod_grp_l2, prod_grp_l3, trade_flow, txn_prod_channel, new_x_sell_retention_flag, Activity_seg, mercury_sector_name, mercury_industry_name, Managed_flag, account_type, txn_cnt, ntpv, revenue, margin, cost, loss]\n",
       "Index: []\n",
       "\n",
       "[0 rows x 27 columns]"
      ]
     },
     "execution_count": 2,
     "metadata": {},
     "output_type": "execute_result"
    }
   ],
   "source": [
    "create or replace table `pypl-edw`.pp_oap_mugilamanivannan_t.merchant_base_table\n",
    "as \n",
    "(\n",
    "select \n",
    "a.mth_id,\n",
    "parse_date('%Y-%m',b.mth_yyyy_mm_name) as transaction_month,\n",
    "a.cust_id,\n",
    "a.pp_bt_cust_id,\n",
    "a.cust_acct_clsfn_key,\n",
    "a.sales_seg,\n",
    "a.market,\n",
    "a.sub_market,\n",
    "CASE WHEN sub_market in ('UK', 'CHINA') then sub_market\n",
    "when cntry_code in ('US', 'CA', 'DE', 'AU', 'FR', 'IT','ES', 'BR','MX', 'JP') then cntry_code\n",
    "when sub_market in ('DEATCH', 'ICE', 'NEU', 'SEU') and cntry_code not in ('US', 'CA', 'DE', 'AU', 'FR', 'IT','ES', 'BR','MX', 'JP', 'CN') then 'Rest of Europe'\n",
    "else 'Rest of World' end as Region,  \n",
    "a.cntry_code,   \n",
    "CASE WHEN upper(trim(a.prod_hier_desc))='BRAINTREE' then 'Braintree' \n",
    "     WHEN upper(trim(a.prod_hier_l1)) IN ('BRANDED WALLET-DIRECT', 'BRANDED WALLET-MARKETPLACE','BRANDED WALLET-PARTNERS', 'EBAY') THEN 'Wallet'\n",
    "     WHEN upper(trim(a.prod_hier_l1)) IN ('UNBRANDED CARD PROCESSING-DIRECT', 'UNBRANDED CARD PROCESSING-MARKETPLACE','UNBRANDED CARD PROCESSING-PARTNERS') THEN 'PP-Cards'     \n",
    "     WHEN upper(trim(a.prod_hier_l1)) IN ('APM-DIRECT', 'APM-MARKETPLACE', 'APM-PARTNERS', 'PWV-DIRECT', 'PWV-MARKETPLACE', 'PWV-PARTNERS',\n",
    "                                         'CREDIT-DIRECT', 'CREDIT-MARKETPLACE', 'CREDIT-PARTNERS') THEN 'Other-XO'\n",
    "     ELSE 'Non-XO'\n",
    "END prod_grp_l1,   \n",
    "CASE WHEN upper(trim(a.prod_hier_desc))='BRAINTREE' then 'Braintree' -- Braintree \n",
    "     WHEN upper(trim(a.prod_hier_l3)) in ('EC - LATEST', 'EC - BETTER', 'EC - LEGACY', 'PUI - BETTER', 'PUI - LEGACY') and upper(trim(a.prod_hier_desc)) <> 'WPS NON RECURRING' then 'EC' --Wallet\n",
    "     WHEN (upper(trim(a.prod_hier_l3)) in ('WPS - LEGACY') or upper(trim(a.prod_hier_desc)) = 'WPS NON RECURRING') and (upper(trim(a.prod_hier_l3)) <> 'INTEGRATED QR') then 'WPS'   --Wallet\n",
    "     WHEN upper(trim(a.prod_hier_l1)) = 'EBAY' THEN 'eBay'  --Wallet\n",
    "     WHEN upper(trim(a.prod_hier_l2)) in ('ACDC', 'BCDC', 'PRO DCC') THEN a.prod_hier_l2  -- PP Cards\n",
    "     WHEN upper(trim(a.prod_hier_l1)) like 'UNBRANDED CARD PROCESSING' and upper(trim(a.prod_hier_l2)) not in ('ACDC', 'BCDC', 'PRO DCC', 'BRAINTREE') THEN 'PPCards-Oth' -- PP Cards\n",
    "     WHEN upper(trim(a.prod_hier_l1)) IN ('APM-DIRECT', 'APM-MARKETPLACE', 'APM-PARTNERS','PWV-DIRECT', 'PWV-MARKETPLACE',\n",
    "                                          'PWV-PARTNERS') THEN 'APM (INCL PWV)' -- Other XO\n",
    "     WHEN upper(trim(a.prod_hier_l1)) IN ('CREDIT-DIRECT', 'CREDIT-MARKETPLACE', 'CREDIT-PARTNERS') THEN 'Credit' -- Other XO\n",
    "     WHEN upper(trim(a.prod_hier_l2)) in ('INVOICING', 'ZETTLE', 'PAYOUTS') then a.prod_hier_l2\n",
    "     WHEN upper(trim(a.prod_hier_l2)) in ('P2P-F&F', 'P2P-G&S') then 'P2P'\n",
    "     ELSE 'Oth'\n",
    "END AS prod_grp_l2,\n",
    "CASE WHEN upper(trim(a.prod_hier_desc)) = 'BRAINTREE' then 'Braintree' -- Braintree\n",
    "     WHEN upper(trim(a.prod_hier_l1)) = 'EBAY' THEN 'eBay' --Wallet\n",
    "     WHEN upper(trim(a.prod_hier_desc)) = 'MS EC RECURRING' and upper(trim(a.prod_hier_l2)) not in ('APM' , 'PWV', 'PPC 2ND BTN', 'ACDC', 'BCDC') then 'EC Recurring'  --Wallet\n",
    "     WHEN upper(trim(a.prod_hier_desc)) = 'MS EC Non Recurring' and upper(trim(a.prod_hier_l2)) not in ('APM' , 'PWV', 'PPC 2ND BTN', 'ACDC', 'BCDC') then 'EC Non Recurring' --Wallet\n",
    "     WHEN upper(trim(a.prod_hier_desc)) in ('WPS RECURRING', 'WPS NON RECURRING')  and  upper(trim(a.prod_hier_l2)) not in ('APM' , 'PWV', 'PPC 2ND BTN', 'ACDC', 'BCDC', 'INTEGRATED QR')  then a.prod_hier_desc --Wallet\n",
    "     WHEN upper(trim(a.prod_hier_l3)) in ('EC - LATEST', 'EC - BETTER', 'EC - LEGACY', 'PUI - BETTER', 'PUI - LEGACY') then 'EC Non Recurring' --Wallet\n",
    "     WHEN upper(trim(a.prod_hier_l3)) in ('WPS - LEGACY') then 'WPS Non Recurring'  --Wallet\n",
    "     WHEN upper(trim(a.prod_hier_l2)) in ('ACDC', 'BCDC', 'PRO DCC') THEN a.prod_hier_l2 -- PP Cards     \n",
    "     WHEN upper(trim(a.prod_hier_l2)) = 'HSS UNBRANDED' then 'HSS' -- PP Cards \n",
    "     WHEN upper(trim(a.prod_hier_l2)) = 'PP PLUS - UNBRANDED' then 'PP Plus'  -- PP Cards \n",
    "     WHEN upper(trim(a.prod_hier_l2)) = 'PPFM UNBRANDED' then 'PPFM'  -- PP Cards \n",
    "     WHEN upper(trim(a.prod_hier_l1)) IN ('APM-DIRECT', 'APM-MARKETPLACE', 'APM-PARTNERS') THEN 'APM'  -- Other XO\n",
    "     WHEN upper(trim(a.prod_hier_l1)) IN ('PWV-DIRECT', 'PWV-MARKETPLACE', 'PWV-PARTNERS') THEN 'PWV'  -- Other XO\n",
    "     WHEN upper(trim(a.prod_hier_l1)) IN ('CREDIT-DIRECT', 'CREDIT-MARKETPLACE', 'CREDIT-PARTNERS') THEN 'Credit'  -- Other XO\n",
    "     WHEN upper(trim(a.prod_hier_l2)) in ('INVOICING', 'ZETTLE', 'P2P-G&S', 'VIRTUAL TERMINAL', 'PAYPAL HERE') then \n",
    "         upper(trim(a.prod_hier_l2))\n",
    "     WHEN upper(trim(a.prod_hier_l1)) IN ('P2P-F&F RECV', 'P2P-F&F SEND', 'MS OTHERS', 'PAYOUTS RECV', 'PAYOUTS SEND') \n",
    "         then upper(trim(a.prod_hier_l1))\n",
    "     WHEN upper(trim(a.prod_hier_l2)) in ('INTEGRATED QR', 'STATIC QR') then 'QRC' \n",
    "     WHEN upper(trim(a.prod_hier_l2)) = 'TOKENIZATION & DISCOVER POS' THEN 'POS'\n",
    "     ELSE 'MS OTHERS'\n",
    "END AS prod_grp_l3,\n",
    "case when a.trade_flow = 'NA' then 'BT'\n",
    "else a.trade_flow\n",
    "end as trade_flow,\n",
    "a.txn_prod_channel,\n",
    "a.new_x_sell_retention_flag,\n",
    "-- a.eds_flag,\n",
    "-- a.ews_flag,\n",
    "-- a.ems_flag,\n",
    "case \n",
    "when new_flag='Y' then 'New'\n",
    "when eds_flag='Y' then 'EDS'\n",
    "when ews_flag='Y' then 'EWS'\n",
    "when ems_flag='Y' then 'EMS'\n",
    "else 'Rest' end as Activity_seg,   \n",
    "mercury_sector_name as mercury_sector_name,\n",
    "mercury_industry_name as mercury_industry_name,\n",
    "CASE \n",
    "WHEN upper(trim(m.cust_id)) is not null or upper(trim(a.prod_hier_desc))='EBAY MOR' then 'MANAGED PATH' \n",
    "WHEN upper(trim(a.txn_prod_channel)) in ('PARTNER','MARKETPLACE') or \n",
    "upper(trim(a.prod_hier_desc))='EBAY NON-MOR' then 'CONNECTED PATH'\n",
    "else 'DIRECT' \n",
    "END as Managed_flag,\n",
    "CASE\n",
    "WHEN a.cust_acct_type_code = 0 THEN 'Personal'\n",
    "WHEN a.cust_acct_type_code = 1 THEN 'Premier'\n",
    "ELSE 'Business'\n",
    "END AS account_type,\n",
    "sum(rcv_txn_cnt)  txn_cnt,\n",
    "sum(a.rcv_ntpv_pln_usd_amt ) ntpv,\n",
    "sum(a.net_rev_pln_usd_amt) AS revenue,\n",
    "sum(a.net_margin_pln_usd_amt) AS margin,\n",
    "sum(a.net_cost_pln_usd_amt) AS cost,\n",
    "sum(a.net_loss_pln_usd_amt) AS loss\n",
    "from pypl-edw.pp_ent_anlytcs_views.fact_merch_prod_hier_mth a\n",
    "--LEFT JOIN `pypl-edw`.pp_discovery_views.dim_customer AS attr \n",
    "--ON upper(rtrim(a.pp_bt_cust_id)) = upper(rtrim(attr.cust_id))\n",
    "LEFT OUTER JOIN `pypl-edw`.pp_discovery_views.dim_calendar_month AS b \n",
    "ON trim(CAST(a.mth_id as STRING)) = trim(CAST(b.mth_id as STRING))\n",
    "LEFT JOIN (select cust_id,mercury_sector_name,mercury_industry_name from `pypl-edw`.pp_scratch.mercury_industry_details\n",
    "where dt=(select max(dt) from pypl-edw.pp_scratch.mercury_industry_details)\n",
    "group by 1,2,3) d on a.cust_id = d.cust_id  \n",
    "LEFT JOIN  pypl-edw.pp_peak_views.dim_mam_merch_ssot m \n",
    "on upper(rtrim(a.pp_bt_cust_id)) = upper(rtrim(m.cust_id))\n",
    "where a.mth_id>1452 and\n",
    "    upper(trim(a.sales_seg)) in ('A1','A2','B1','B2','C','D','E','GLOBAL ACCOUNTS') and\n",
    "    a.cust_acct_clsfn_key in (2,8,-99,21)\n",
    "group by 1,2,3,4,5,6,7,8,9,10,11,12,13,14,15,16,17,18,19,20,21);"
   ]
  },
  {
   "cell_type": "markdown",
   "metadata": {},
   "source": [
    "### Sender Table"
   ]
  },
  {
   "cell_type": "code",
   "execution_count": 19,
   "metadata": {
    "execution": {
     "iopub.execute_input": "2024-01-09T15:44:04.738988Z",
     "iopub.status.busy": "2024-01-09T15:44:04.738510Z",
     "iopub.status.idle": "2024-01-09T15:44:31.958615Z",
     "shell.execute_reply": "2024-01-09T15:44:31.957191Z",
     "shell.execute_reply.started": "2024-01-09T15:44:04.738937Z"
    }
   },
   "outputs": [
    {
     "data": {
      "application/vnd.jupyter.widget-view+json": {
       "model_id": "90d31805adff434bad46de61cb7fc406",
       "version_major": 2,
       "version_minor": 0
      },
      "text/plain": [
       "HTML(value='')"
      ]
     },
     "metadata": {},
     "output_type": "display_data"
    },
    {
     "name": "stdout",
     "output_type": "stream",
     "text": [
      "job id =  CJeolOoJxawaWixexD8vmyJRBEu\n",
      "Time executed =  -63840411848.893  seconds\n"
     ]
    },
    {
     "data": {
      "application/vnd.jupyter.widget-view+json": {
       "model_id": "81ee88e629604a71823502c3fdedaf47",
       "version_major": 2,
       "version_minor": 0
      },
      "text/plain": [
       "HTML(value='')"
      ]
     },
     "metadata": {},
     "output_type": "display_data"
    },
    {
     "data": {
      "application/vnd.jupyter.widget-view+json": {
       "model_id": "87c322c3473c4d76995892a2fe558a48",
       "version_major": 2,
       "version_minor": 0
      },
      "text/plain": [
       "DownloadWidget(children=(HBox(children=(Dropdown(description='File Type:', index=1, options=('tde', 'csv', 'js…"
      ]
     },
     "metadata": {},
     "output_type": "display_data"
    },
    {
     "data": {
      "text/html": [
       "<table>\n",
       "    <tr>\n",
       "        <th>cust_flag</th>\n",
       "        <th>mth_id</th>\n",
       "        <th>transaction_month</th>\n",
       "        <th>cust_id</th>\n",
       "        <th>pp_bt_cust_id</th>\n",
       "        <th>entity_id</th>\n",
       "        <th>cust_acct_clsfn_key</th>\n",
       "        <th>sales_seg</th>\n",
       "        <th>market</th>\n",
       "        <th>sub_market</th>\n",
       "        <th>Region</th>\n",
       "        <th>cntry_code</th>\n",
       "        <th>prod_hier_desc</th>\n",
       "        <th>prod_hier_l1</th>\n",
       "        <th>prod_hier_l2</th>\n",
       "        <th>trade_flow</th>\n",
       "        <th>txn_prod_channel</th>\n",
       "        <th>new_x_sell_retention_flag</th>\n",
       "        <th>Activity_seg</th>\n",
       "        <th>mercury_sector_name</th>\n",
       "        <th>mercury_industry_name</th>\n",
       "        <th>Managed_flag</th>\n",
       "        <th>account_type</th>\n",
       "        <th>txn_cnt</th>\n",
       "        <th>ntpv</th>\n",
       "        <th>revenue</th>\n",
       "        <th>margin</th>\n",
       "        <th>cost</th>\n",
       "        <th>loss</th>\n",
       "    </tr>\n",
       "</table>"
      ],
      "text/plain": [
       "Empty DataFrame\n",
       "Columns: [cust_flag, mth_id, transaction_month, cust_id, pp_bt_cust_id, entity_id, cust_acct_clsfn_key, sales_seg, market, sub_market, Region, cntry_code, prod_hier_desc, prod_hier_l1, prod_hier_l2, trade_flow, txn_prod_channel, new_x_sell_retention_flag, Activity_seg, mercury_sector_name, mercury_industry_name, Managed_flag, account_type, txn_cnt, ntpv, revenue, margin, cost, loss]\n",
       "Index: []\n",
       "\n",
       "[0 rows x 29 columns]"
      ]
     },
     "execution_count": 19,
     "metadata": {},
     "output_type": "execute_result"
    }
   ],
   "source": [
    "Insert into `pypl-edw`.pp_scratch.Send_Only_Merchants_Details\n",
    "(\n",
    "SELECT \n",
    "    'Non-Revenue generating' as cust_flag,\n",
    "    a.mth_id,   \n",
    "    parse_date('%Y-%m',d.mth_yyyy_mm_name) as transaction_month,\n",
    "    a.cust_id,\n",
    "    a.cust_id as pp_bt_cust_id, \n",
    "    cast(null as string) as entity_id,\n",
    "    a.cust_acct_clsfn_key, \n",
    "    e.sales_seg, \n",
    "    b.fpa_rev_lvl_4 as market,    \n",
    "    b.fpa_rev_lvl_3 as sub_market, \n",
    "    CASE WHEN b.fpa_rev_lvl_3 in ('UK', 'CHINA') then b.fpa_rev_lvl_3\n",
    "    when a.cntry_code in ('US', 'CA', 'DE', 'AU', 'FR', 'IT','ES', 'BR','MX', 'JP') then a.cntry_code\n",
    "    when b.fpa_rev_lvl_3 in ('DEATCH', 'ICE', 'NEU', 'SEU') and a.cntry_code not in ('US', 'CA', 'DE', 'AU', 'FR', 'IT','ES', 'BR','MX', 'JP', 'CN') then 'Rest of Europe'\n",
    "    else 'Rest of World' end as Region,   \n",
    "    a.cntry_code,   \n",
    "    'Non_Rev_Send_Only' as prod_hier_desc,   \n",
    "    'Non_Rev_Send_Only' as prod_hier_l1,      \n",
    "    'Non_Rev_Send_Only' as prod_hier_l2,       \n",
    "    'Non_Rev_Send_Only' as trade_flow,        \n",
    "    'Non_Rev_Send_Only' as txn_prod_channel,   \n",
    "    'Non_Rev_Send_Only' as new_x_sell_retention_flag,  \n",
    "    'Non_Rev_Send_Only' as Activity_seg,  \n",
    "    f.mercury_sector_name as mercury_sector_name,  \n",
    "    f.mercury_industry_name as mercury_industry_name,  \n",
    "    'Non_Rev_Send_Only' as Managed_flag, \n",
    "    CASE\n",
    "    WHEN a.cust_acct_type_code = 0 THEN 'Personal'\n",
    "    WHEN a.cust_acct_type_code = 1 THEN 'Premier'\n",
    "    ELSE 'Business'\n",
    "    END AS account_type,  \n",
    "    0 as txn_cnt,\n",
    "    0 as ntpv,\n",
    "    0 as revenue, \n",
    "    0 as margin, \n",
    "    0 as cost,\n",
    "    0 as loss \n",
    "\n",
    "\n",
    "FROM (SELECT * FROM `pypl-edw`.pp_discovery_views.fact_cust_prfl_mth_snap a\n",
    "       WHERE mth_id = 1488 and cust_acct_clsfn_key in (2,8) and a.sndr_actv_seg_key in (1,2,3)\n",
    "    and a.sndr_rcvr_actv_seg_key in (1,2,3) and a.rcvr_actv_seg_key not in (1,2,3)\n",
    "     ) a\n",
    "--JOIN (SELECT b.mth_id as cal_mth_id, a.*  \n",
    "--        FROM pypl-edw.pp_ent_anlytcs_views.fact_user_actv_mth_snap a\n",
    "--        JOIN  `pypl-edw`.pp_discovery_views.dim_calendar_month b\n",
    "--          ON substring(cast(a.mth_id as string),1,7) = b.mth_yyyy_mm_name \n",
    "--       WHERE b.mth_id = 1486 and a.mth_clsfn_key in (2,8)) g   # This is used to extract the merchants who made a txn that particular month\n",
    "-- ON a.cust_id = g.cust_id and a.mth_id = g.cal_mth_id  #10689059\n",
    "JOIN `pypl-edw`.pp_discovery_views.dim_cntry b\n",
    "ON a.cntry_code = b.cntry_code \n",
    "LEFT JOIN pypl-edw.pp_ent_anlytcs_views.fact_merch_prod_hier_mth c\n",
    "ON a.cust_id = c.cust_id and a.mth_id = c.mth_id \n",
    "LEFT JOIN `pypl-edw`.pp_discovery_views.dim_calendar_month AS d\n",
    "ON trim(CAST(a.mth_id as STRING)) = trim(CAST(d.mth_id as STRING))\n",
    "LEFT JOIN `pypl-edw`.pp_ent_anlytcs_views.dim_busn_type_merch_snap e   -- left join with bus_snap table gives merchants who do not have a sales_seg but have a made a send activity\n",
    "ON a.cust_id = e.cust_id and a.mth_id = e.mth_id \n",
    "LEFT JOIN (\n",
    "select cust_id,mercury_sector_name,mercury_industry_name from pypl-edw.pp_scratch.mercury_industry_details\n",
    "where dt=(select max(dt) from pypl-edw.pp_scratch.mercury_industry_details)\n",
    "group by 1,2,3\n",
    ") f\n",
    "ON a.cust_id = f.cust_id \n",
    "\n",
    "WHERE c.cust_id is null\n",
    "and a.mth_id = 1488\n",
    "and a.cust_acct_clsfn_key in (2,8) \n",
    "and a.sndr_rcvr_actv_seg_key in (1,2,3)\n",
    "GROUP BY 1,2,3,4,5,6,7,8,9,10,11,12,13,14,15,16,17,18,19,20,21,22,23);"
   ]
  },
  {
   "cell_type": "markdown",
   "metadata": {
    "execution": {
     "iopub.execute_input": "2023-11-28T10:20:19.418831Z",
     "iopub.status.busy": "2023-11-28T10:20:19.418218Z",
     "iopub.status.idle": "2023-11-28T10:20:37.369548Z",
     "shell.execute_reply": "2023-11-28T10:20:37.368777Z",
     "shell.execute_reply.started": "2023-11-28T10:20:19.418755Z"
    }
   },
   "source": [
    "#### Final Merchant Table  - Rcvr and Sender"
   ]
  },
  {
   "cell_type": "raw",
   "metadata": {
    "execution": {
     "iopub.execute_input": "2024-01-04T13:45:53.096099Z",
     "iopub.status.busy": "2024-01-04T13:45:53.095522Z",
     "iopub.status.idle": "2024-01-04T13:46:48.024908Z",
     "shell.execute_reply": "2024-01-04T13:46:48.024107Z",
     "shell.execute_reply.started": "2024-01-04T13:45:53.096024Z"
    }
   },
   "source": [
    "create or replace table `pypl-bods`.prd_globalbi_sales_t.merchant_base_final_table_v1\n",
    "as \n",
    "(\n",
    "select \n",
    "'Revenue Generating' as flag,\n",
    "a.mth_id,\n",
    "a.transaction_month,\n",
    "a.cust_id,\n",
    "a.pp_bt_cust_id,\n",
    "a.cust_acct_clsfn_key,\n",
    "case when upper(trim(a.sales_seg)) in ('GLOBAL ACCOUNTS') then 'GA'\n",
    " When upper(trim(a.sales_seg)) in ('A1','A2','B1') then 'ES'\n",
    " When upper(trim(a.sales_seg)) in('B2') then 'MM'\n",
    " When upper(trim(a.sales_seg)) in ('C','D') then 'SB'\n",
    " Else '#'\n",
    " END as sales_seg,\n",
    "a.market,\n",
    "a.sub_market,\n",
    "a.Region,  \n",
    "a.cntry_code,   \n",
    "a.prod_hier_desc,    \n",
    "a.prod_hier_l1,\n",
    "a.prod_hier_l2,\n",
    "a.trade_flow,\n",
    "a.txn_prod_channel,\n",
    "a.new_x_sell_retention_flag,\n",
    "a.Activity_seg,   \n",
    "a.mercury_sector_name,\n",
    "a.mercury_industry_name, \n",
    "a.Managed_flag,\n",
    "a.account_type,\n",
    "sum(a.txn_cnt) as txn_cnt,\n",
    "sum(a.ntpv) as ntpv,\n",
    "sum(a.revenue) as revenue,\n",
    "sum(a.margin) as margin,\n",
    "sum(a.cost) as cost,\n",
    "sum(a.loss) as loss\n",
    "from `pypl-edw`.pp_oap_mugilamanivannan_t.merchant_base_table a\n",
    "    where mth_id >= 1475\n",
    "group by 1,2,3,4,5,6,7,8,9,10,11,12,13,14,15,16,17,18,19,20,21,22\n",
    "union all\n",
    "select\n",
    "'Non-Revenue Generating' as flag,\n",
    "b.mth_id,\n",
    "b.transaction_month,\n",
    "b.cust_id,\n",
    "b.pp_bt_cust_id,\n",
    "b.cust_acct_clsfn_key,\n",
    "case when upper(trim(b.sales_seg)) in ('GLOBAL ACCOUNTS') then 'GA'\n",
    " When upper(trim(b.sales_seg)) in ('A1','A2','B1') then 'ES'\n",
    " When upper(trim(b.sales_seg)) in('B2') then 'MM'\n",
    " When upper(trim(b.sales_seg)) in ('C','D') then 'SB'\n",
    " Else 'NA'\n",
    " END as sales_seg,\n",
    "b.market,\n",
    "b.sub_market,\n",
    "b.Region,  \n",
    "b.cntry_code,   \n",
    "b.prod_hier_desc,    \n",
    "b.prod_hier_l1,\n",
    "b.prod_hier_l2,\n",
    "b.trade_flow,\n",
    "b.txn_prod_channel,\n",
    "b.new_x_sell_retention_flag,\n",
    "b.Activity_seg,   \n",
    "b.mercury_sector_name,\n",
    "b.mercury_industry_name, \n",
    "b.Managed_flag,\n",
    "b.account_type,\n",
    "sum(b.txn_cnt) as txn_cnt,\n",
    "sum(b.ntpv) as ntpv,\n",
    "sum(b.revenue) as revenue,\n",
    "sum(b.margin) as margin,\n",
    "sum(b.cost) as cost,\n",
    "sum(b.loss) as loss\n",
    "from `pypl-edw`.pp_scratch.Send_Only_Merchants_Details b\n",
    "    where mth_id >= 1475\n",
    "group by 1,2,3,4,5,6,7,8,9,10,11,12,13,14,15,16,17,18,19,20,21,22);"
   ]
  },
  {
   "cell_type": "raw",
   "metadata": {},
   "source": [
    "Insert into `pypl-bods`.prd_globalbi_sales_t.merchant_base_final_table_v1\n",
    "(\n",
    "select \n",
    "'Revenue Generating' as flag,\n",
    "a.mth_id,\n",
    "a.transaction_month,\n",
    "a.cust_id,\n",
    "a.pp_bt_cust_id,\n",
    "a.cust_acct_clsfn_key,\n",
    "case when upper(trim(a.sales_seg)) in ('GLOBAL ACCOUNTS') then 'GA'\n",
    " When upper(trim(a.sales_seg)) in ('A1','A2','B1') then 'ES'\n",
    " When upper(trim(a.sales_seg)) in('B2') then 'MM'\n",
    " When upper(trim(a.sales_seg)) in ('C','D') then 'SB'\n",
    " Else 'NA'\n",
    " END as sales_seg,\n",
    "a.market,\n",
    "a.sub_market,\n",
    "a.Region,  \n",
    "a.cntry_code,   \n",
    "a.prod_hier_desc,    \n",
    "a.prod_hier_l1,\n",
    "a.prod_hier_l2,\n",
    "a.trade_flow,\n",
    "a.txn_prod_channel,\n",
    "a.new_x_sell_retention_flag,\n",
    "a.Activity_seg,   \n",
    "a.mercury_sector_name,\n",
    "a.mercury_industry_name, \n",
    "a.Managed_flag,\n",
    "a.account_type,\n",
    "sum(a.txn_cnt) as txn_cnt,\n",
    "sum(a.ntpv) as ntpv,\n",
    "sum(a.revenue) as revenue,\n",
    "sum(a.margin) as margin,\n",
    "sum(a.cost) as cost,\n",
    "sum(a.loss) as loss\n",
    "from `pypl-edw`.pp_oap_mugilamanivannan_t.merchant_base_table a\n",
    "    where mth_id between 1453 and 1465\n",
    "group by 1,2,3,4,5,6,7,8,9,10,11,12,13,14,15,16,17,18,19,20,21,22\n",
    "union all\n",
    "select\n",
    "'Non-Revenue Generating' as flag,\n",
    "b.mth_id,\n",
    "b.transaction_month,\n",
    "b.cust_id,\n",
    "b.pp_bt_cust_id,\n",
    "b.cust_acct_clsfn_key,\n",
    "case when upper(trim(b.sales_seg)) in ('GLOBAL ACCOUNTS') then 'GA'\n",
    " When upper(trim(b.sales_seg)) in ('A1','A2','B1') then 'ES'\n",
    " When upper(trim(b.sales_seg)) in('B2') then 'MM'\n",
    " When upper(trim(b.sales_seg)) in ('C','D') then 'SB'\n",
    " Else 'NA'\n",
    " END as sales_seg,\n",
    "b.market,\n",
    "b.sub_market,\n",
    "b.Region,  \n",
    "b.cntry_code,   \n",
    "b.prod_hier_desc,    \n",
    "b.prod_hier_l1,\n",
    "b.prod_hier_l2,\n",
    "b.trade_flow,\n",
    "b.txn_prod_channel,\n",
    "b.new_x_sell_retention_flag,\n",
    "b.Activity_seg,   \n",
    "b.mercury_sector_name,\n",
    "b.mercury_industry_name, \n",
    "b.Managed_flag,\n",
    "b.account_type,\n",
    "sum(b.txn_cnt) as txn_cnt,\n",
    "sum(b.ntpv) as ntpv,\n",
    "sum(b.revenue) as revenue,\n",
    "sum(b.margin) as margin,\n",
    "sum(b.cost) as cost,\n",
    "sum(b.loss) as loss\n",
    "from `pypl-edw`.pp_scratch.Send_Only_Merchants_Details b\n",
    "    where mth_id between 1453 and 1465\n",
    "group by 1,2,3,4,5,6,7,8,9,10,11,12,13,14,15,16,17,18,19,20,21,22);"
   ]
  },
  {
   "cell_type": "code",
   "execution_count": 3,
   "metadata": {
    "execution": {
     "iopub.execute_input": "2024-01-12T17:07:38.946276Z",
     "iopub.status.busy": "2024-01-12T17:07:38.945819Z",
     "iopub.status.idle": "2024-01-12T17:10:04.696276Z",
     "shell.execute_reply": "2024-01-12T17:10:04.695348Z",
     "shell.execute_reply.started": "2024-01-12T17:07:38.946219Z"
    }
   },
   "outputs": [
    {
     "data": {
      "application/vnd.jupyter.widget-view+json": {
       "model_id": "a98558c9ef48490abeb6fe7bebfdb3eb",
       "version_major": 2,
       "version_minor": 0
      },
      "text/plain": [
       "HTML(value='')"
      ]
     },
     "metadata": {},
     "output_type": "display_data"
    },
    {
     "name": "stdout",
     "output_type": "stream",
     "text": [
      "job id =  myBTyafGmovndS7Yg6F8YSSGyPe\n",
      "Time executed =  -63840676065.035  seconds\n"
     ]
    },
    {
     "data": {
      "application/vnd.jupyter.widget-view+json": {
       "model_id": "19bc619228784517a021b40df0b4cd72",
       "version_major": 2,
       "version_minor": 0
      },
      "text/plain": [
       "HTML(value='')"
      ]
     },
     "metadata": {},
     "output_type": "display_data"
    },
    {
     "data": {
      "application/vnd.jupyter.widget-view+json": {
       "model_id": "53635f775cdb422fb016bbce8e5ce40e",
       "version_major": 2,
       "version_minor": 0
      },
      "text/plain": [
       "DownloadWidget(children=(HBox(children=(Dropdown(description='File Type:', index=1, options=('tde', 'csv', 'js…"
      ]
     },
     "metadata": {},
     "output_type": "display_data"
    },
    {
     "data": {
      "text/html": [
       "<table>\n",
       "    <tr>\n",
       "        <th>flag</th>\n",
       "        <th>mth_id</th>\n",
       "        <th>transaction_month</th>\n",
       "        <th>cust_id</th>\n",
       "        <th>pp_bt_cust_id</th>\n",
       "        <th>cust_acct_clsfn_key</th>\n",
       "        <th>sales_seg</th>\n",
       "        <th>market</th>\n",
       "        <th>sub_market</th>\n",
       "        <th>Region</th>\n",
       "        <th>cntry_code</th>\n",
       "        <th>prod_grp_l1</th>\n",
       "        <th>prod_grp_l2</th>\n",
       "        <th>prod_grp_l3</th>\n",
       "        <th>trade_flow</th>\n",
       "        <th>txn_prod_channel</th>\n",
       "        <th>new_x_sell_retention_flag</th>\n",
       "        <th>Activity_seg</th>\n",
       "        <th>mercury_sector_name</th>\n",
       "        <th>mercury_industry_name</th>\n",
       "        <th>Managed_flag</th>\n",
       "        <th>account_type</th>\n",
       "        <th>txn_cnt</th>\n",
       "        <th>ntpv</th>\n",
       "        <th>revenue</th>\n",
       "        <th>margin</th>\n",
       "        <th>cost</th>\n",
       "        <th>loss</th>\n",
       "    </tr>\n",
       "</table>"
      ],
      "text/plain": [
       "Empty DataFrame\n",
       "Columns: [flag, mth_id, transaction_month, cust_id, pp_bt_cust_id, cust_acct_clsfn_key, sales_seg, market, sub_market, Region, cntry_code, prod_grp_l1, prod_grp_l2, prod_grp_l3, trade_flow, txn_prod_channel, new_x_sell_retention_flag, Activity_seg, mercury_sector_name, mercury_industry_name, Managed_flag, account_type, txn_cnt, ntpv, revenue, margin, cost, loss]\n",
       "Index: []\n",
       "\n",
       "[0 rows x 28 columns]"
      ]
     },
     "execution_count": 3,
     "metadata": {},
     "output_type": "execute_result"
    }
   ],
   "source": [
    "create or replace table `pypl-bods`.prd_globalbi_sales_t.merchant_base_final_table_v2\n",
    "as \n",
    "(\n",
    "select \n",
    "'Revenue Generating' as flag,\n",
    "a.mth_id,\n",
    "a.transaction_month,\n",
    "a.cust_id,\n",
    "a.pp_bt_cust_id,\n",
    "a.cust_acct_clsfn_key,\n",
    "case when upper(trim(a.sales_seg)) in ('GLOBAL ACCOUNTS') then 'GA'\n",
    " When upper(trim(a.sales_seg)) in ('A1','A2','B1') then 'ES'\n",
    " When upper(trim(a.sales_seg)) in('B2') then 'MM'\n",
    " When upper(trim(a.sales_seg)) in ('C','D','E') then 'SB'\n",
    " Else '#'\n",
    " END as sales_seg,\n",
    "a.market,\n",
    "a.sub_market,\n",
    "a.Region,  \n",
    "a.cntry_code,   \n",
    "a.prod_grp_l1,    \n",
    "a.prod_grp_l2,\n",
    "a.prod_grp_l3,\n",
    "a.trade_flow,\n",
    "a.txn_prod_channel,\n",
    "a.new_x_sell_retention_flag,\n",
    "a.Activity_seg,   \n",
    "a.mercury_sector_name,\n",
    "a.mercury_industry_name, \n",
    "a.Managed_flag,\n",
    "a.account_type,\n",
    "sum(a.txn_cnt) as txn_cnt,\n",
    "sum(a.ntpv) as ntpv,\n",
    "sum(a.revenue) as revenue,\n",
    "sum(a.margin) as margin,\n",
    "sum(a.cost) as cost,\n",
    "sum(a.loss) as loss\n",
    "from `pypl-edw`.pp_oap_mugilamanivannan_t.merchant_base_table a\n",
    "    where mth_id >= 1475\n",
    "group by 1,2,3,4,5,6,7,8,9,10,11,12,13,14,15,16,17,18,19,20,21,22\n",
    "union all\n",
    "select\n",
    "'All' as flag,\n",
    "b.mth_id,\n",
    "b.transaction_month,\n",
    "b.cust_id,\n",
    "b.pp_bt_cust_id,\n",
    "b.cust_acct_clsfn_key,\n",
    "b.sales_seg,\n",
    "b.market,\n",
    "b.sub_market,\n",
    "b.Region,  \n",
    "b.cntry_code,   \n",
    "b.prod_grp_l1,    \n",
    "b.prod_grp_l2,\n",
    "b.prod_grp_l3,\n",
    "b.trade_flow,\n",
    "b.txn_prod_channel,\n",
    "b.new_x_sell_retention_flag,\n",
    "b.Activity_seg,   \n",
    "b.mercury_sector_name,\n",
    "b.mercury_industry_name, \n",
    "b.Managed_flag,\n",
    "b.account_type,\n",
    "sum(b.txn_cnt) as txn_cnt,\n",
    "sum(b.ntpv) as ntpv,\n",
    "sum(b.revenue) as revenue,\n",
    "sum(b.margin) as margin,\n",
    "sum(b.cost) as cost,\n",
    "sum(b.loss) as loss\n",
    "from \n",
    "    (\n",
    "select \n",
    "a.mth_id,\n",
    "a.transaction_month,\n",
    "a.cust_id,\n",
    "a.pp_bt_cust_id,\n",
    "a.cust_acct_clsfn_key,\n",
    "case when upper(trim(a.sales_seg)) in ('GLOBAL ACCOUNTS') then 'GA'\n",
    " When upper(trim(a.sales_seg)) in ('A1','A2','B1') then 'ES'\n",
    " When upper(trim(a.sales_seg)) in('B2') then 'MM'\n",
    " When upper(trim(a.sales_seg)) in ('C','D','E') then 'SB'\n",
    " Else '#'\n",
    " END as sales_seg,\n",
    "a.market,\n",
    "a.sub_market,\n",
    "a.Region,  \n",
    "a.cntry_code,   \n",
    "a.prod_grp_l1,    \n",
    "a.prod_grp_l2,\n",
    "a.prod_grp_l3,\n",
    "a.trade_flow,\n",
    "a.txn_prod_channel,\n",
    "a.new_x_sell_retention_flag,\n",
    "a.Activity_seg,   \n",
    "a.mercury_sector_name,\n",
    "a.mercury_industry_name, \n",
    "a.Managed_flag,\n",
    "a.account_type,\n",
    "sum(a.txn_cnt) as txn_cnt,\n",
    "sum(a.ntpv) as ntpv,\n",
    "sum(a.revenue) as revenue,\n",
    "sum(a.margin) as margin,\n",
    "sum(a.cost) as cost,\n",
    "sum(a.loss) as loss\n",
    "from `pypl-edw`.pp_oap_mugilamanivannan_t.merchant_base_table a\n",
    "    where mth_id >= 1475\n",
    "group by 1,2,3,4,5,6,7,8,9,10,11,12,13,14,15,16,17,18,19,20,21\n",
    "union all\n",
    "select\n",
    "b.mth_id,\n",
    "b.transaction_month,\n",
    "b.cust_id,\n",
    "b.pp_bt_cust_id,\n",
    "b.cust_acct_clsfn_key,\n",
    "case when upper(trim(b.sales_seg)) in ('GLOBAL ACCOUNTS') then 'GA'\n",
    " When upper(trim(b.sales_seg)) in ('A1','A2','B1') then 'ES'\n",
    " When upper(trim(b.sales_seg)) in('B2') then 'MM'\n",
    " When upper(trim(b.sales_seg)) in ('C','D','E') then 'SB'\n",
    " Else '#'\n",
    " END as sales_seg,\n",
    "b.market,\n",
    "b.sub_market,\n",
    "b.Region,  \n",
    "b.cntry_code,   \n",
    "b.prod_hier_desc as prod_grp_l1,    \n",
    "b.prod_hier_l1 as prod_grp_l2,\n",
    "b.prod_hier_l2 as prod_grp_l3,    \n",
    "case when b.trade_flow = 'send_only' then \"Non_Rev_Send_Only\"\n",
    "        else b.trade_flow\n",
    "        end as trade_flow,\n",
    "b.txn_prod_channel,\n",
    "b.new_x_sell_retention_flag,\n",
    "b.Activity_seg,   \n",
    "b.mercury_sector_name,\n",
    "b.mercury_industry_name, \n",
    "b.Managed_flag,\n",
    "b.account_type,\n",
    "sum(b.txn_cnt) as txn_cnt,\n",
    "sum(b.ntpv) as ntpv,\n",
    "sum(b.revenue) as revenue,\n",
    "sum(b.margin) as margin,\n",
    "sum(b.cost) as cost,\n",
    "sum(b.loss) as loss\n",
    "from `pypl-edw`.pp_scratch.Send_Only_Merchants_Details b\n",
    "    where mth_id >= 1475\n",
    "group by 1,2,3,4,5,6,7,8,9,10,11,12,13,14,15,16,17,18,19,20,21)\n",
    "    b\n",
    "    where mth_id >= 1475\n",
    "group by 1,2,3,4,5,6,7,8,9,10,11,12,13,14,15,16,17,18,19,20,21,22);"
   ]
  },
  {
   "cell_type": "code",
   "execution_count": 5,
   "metadata": {
    "execution": {
     "iopub.execute_input": "2024-01-12T17:15:01.309300Z",
     "iopub.status.busy": "2024-01-12T17:15:01.308647Z",
     "iopub.status.idle": "2024-01-12T17:16:40.810058Z",
     "shell.execute_reply": "2024-01-12T17:16:40.809141Z",
     "shell.execute_reply.started": "2024-01-12T17:15:01.309217Z"
    }
   },
   "outputs": [
    {
     "data": {
      "application/vnd.jupyter.widget-view+json": {
       "model_id": "0f741e2096b64cae9e494c395b703dbf",
       "version_major": 2,
       "version_minor": 0
      },
      "text/plain": [
       "HTML(value='')"
      ]
     },
     "metadata": {},
     "output_type": "display_data"
    },
    {
     "name": "stdout",
     "output_type": "stream",
     "text": [
      "job id =  4VQlBcXcDc53lSsevA3Y2nlfA9e\n",
      "Time executed =  -63840676507.573  seconds\n"
     ]
    },
    {
     "data": {
      "application/vnd.jupyter.widget-view+json": {
       "model_id": "d1889d711f954424979f9963c2e389e7",
       "version_major": 2,
       "version_minor": 0
      },
      "text/plain": [
       "HTML(value='')"
      ]
     },
     "metadata": {},
     "output_type": "display_data"
    },
    {
     "data": {
      "application/vnd.jupyter.widget-view+json": {
       "model_id": "31589624e5da434aa7316a3c85cb25b8",
       "version_major": 2,
       "version_minor": 0
      },
      "text/plain": [
       "DownloadWidget(children=(HBox(children=(Dropdown(description='File Type:', index=1, options=('tde', 'csv', 'js…"
      ]
     },
     "metadata": {},
     "output_type": "display_data"
    },
    {
     "data": {
      "text/html": [
       "<table>\n",
       "    <tr>\n",
       "        <th>flag</th>\n",
       "        <th>mth_id</th>\n",
       "        <th>transaction_month</th>\n",
       "        <th>cust_id</th>\n",
       "        <th>pp_bt_cust_id</th>\n",
       "        <th>cust_acct_clsfn_key</th>\n",
       "        <th>sales_seg</th>\n",
       "        <th>market</th>\n",
       "        <th>sub_market</th>\n",
       "        <th>Region</th>\n",
       "        <th>cntry_code</th>\n",
       "        <th>prod_grp_l1</th>\n",
       "        <th>prod_grp_l2</th>\n",
       "        <th>prod_grp_l3</th>\n",
       "        <th>trade_flow</th>\n",
       "        <th>txn_prod_channel</th>\n",
       "        <th>new_x_sell_retention_flag</th>\n",
       "        <th>Activity_seg</th>\n",
       "        <th>mercury_sector_name</th>\n",
       "        <th>mercury_industry_name</th>\n",
       "        <th>Managed_flag</th>\n",
       "        <th>account_type</th>\n",
       "        <th>txn_cnt</th>\n",
       "        <th>ntpv</th>\n",
       "        <th>revenue</th>\n",
       "        <th>margin</th>\n",
       "        <th>cost</th>\n",
       "        <th>loss</th>\n",
       "    </tr>\n",
       "</table>"
      ],
      "text/plain": [
       "Empty DataFrame\n",
       "Columns: [flag, mth_id, transaction_month, cust_id, pp_bt_cust_id, cust_acct_clsfn_key, sales_seg, market, sub_market, Region, cntry_code, prod_grp_l1, prod_grp_l2, prod_grp_l3, trade_flow, txn_prod_channel, new_x_sell_retention_flag, Activity_seg, mercury_sector_name, mercury_industry_name, Managed_flag, account_type, txn_cnt, ntpv, revenue, margin, cost, loss]\n",
       "Index: []\n",
       "\n",
       "[0 rows x 28 columns]"
      ]
     },
     "execution_count": 5,
     "metadata": {},
     "output_type": "execute_result"
    }
   ],
   "source": [
    "Insert into `pypl-bods`.prd_globalbi_sales_t.merchant_base_final_table_v2\n",
    "(\n",
    "select \n",
    "'Revenue Generating' as flag,\n",
    "a.mth_id,\n",
    "a.transaction_month,\n",
    "a.cust_id,\n",
    "a.pp_bt_cust_id,\n",
    "a.cust_acct_clsfn_key,\n",
    "case when upper(trim(a.sales_seg)) in ('GLOBAL ACCOUNTS') then 'GA'\n",
    " When upper(trim(a.sales_seg)) in ('A1','A2','B1') then 'ES'\n",
    " When upper(trim(a.sales_seg)) in('B2') then 'MM'\n",
    " When upper(trim(a.sales_seg)) in ('C','D','E') then 'SB'\n",
    " Else '#'\n",
    " END as sales_seg,\n",
    "a.market,\n",
    "a.sub_market,\n",
    "a.Region,  \n",
    "a.cntry_code,   \n",
    "a.prod_grp_l1,    \n",
    "a.prod_grp_l2,\n",
    "a.prod_grp_l3,\n",
    "a.trade_flow,\n",
    "a.txn_prod_channel,\n",
    "a.new_x_sell_retention_flag,\n",
    "a.Activity_seg,   \n",
    "a.mercury_sector_name,\n",
    "a.mercury_industry_name, \n",
    "a.Managed_flag,\n",
    "a.account_type,\n",
    "sum(a.txn_cnt) as txn_cnt,\n",
    "sum(a.ntpv) as ntpv,\n",
    "sum(a.revenue) as revenue,\n",
    "sum(a.margin) as margin,\n",
    "sum(a.cost) as cost,\n",
    "sum(a.loss) as loss\n",
    "from `pypl-edw`.pp_oap_mugilamanivannan_t.merchant_base_table a\n",
    "    where mth_id between 1466 and 1474\n",
    "group by 1,2,3,4,5,6,7,8,9,10,11,12,13,14,15,16,17,18,19,20,21,22\n",
    "union all\n",
    "select\n",
    "'All' as flag,\n",
    "b.mth_id,\n",
    "b.transaction_month,\n",
    "b.cust_id,\n",
    "b.pp_bt_cust_id,\n",
    "b.cust_acct_clsfn_key,\n",
    "b.sales_seg,\n",
    "b.market,\n",
    "b.sub_market,\n",
    "b.Region,  \n",
    "b.cntry_code,   \n",
    "b.prod_grp_l1,    \n",
    "b.prod_grp_l2,\n",
    "b.prod_grp_l3,\n",
    "b.trade_flow,\n",
    "b.txn_prod_channel,\n",
    "b.new_x_sell_retention_flag,\n",
    "b.Activity_seg,   \n",
    "b.mercury_sector_name,\n",
    "b.mercury_industry_name, \n",
    "b.Managed_flag,\n",
    "b.account_type,\n",
    "sum(b.txn_cnt) as txn_cnt,\n",
    "sum(b.ntpv) as ntpv,\n",
    "sum(b.revenue) as revenue,\n",
    "sum(b.margin) as margin,\n",
    "sum(b.cost) as cost,\n",
    "sum(b.loss) as loss\n",
    "from \n",
    "    (\n",
    "select \n",
    "a.mth_id,\n",
    "a.transaction_month,\n",
    "a.cust_id,\n",
    "a.pp_bt_cust_id,\n",
    "a.cust_acct_clsfn_key,\n",
    "case when upper(trim(a.sales_seg)) in ('GLOBAL ACCOUNTS') then 'GA'\n",
    " When upper(trim(a.sales_seg)) in ('A1','A2','B1') then 'ES'\n",
    " When upper(trim(a.sales_seg)) in('B2') then 'MM'\n",
    " When upper(trim(a.sales_seg)) in ('C','D','E') then 'SB'\n",
    " Else '#'\n",
    " END as sales_seg,\n",
    "a.market,\n",
    "a.sub_market,\n",
    "a.Region,  \n",
    "a.cntry_code,   \n",
    "a.prod_grp_l1,    \n",
    "a.prod_grp_l2,\n",
    "a.prod_grp_l3,\n",
    "a.trade_flow,\n",
    "a.txn_prod_channel,\n",
    "a.new_x_sell_retention_flag,\n",
    "a.Activity_seg,   \n",
    "a.mercury_sector_name,\n",
    "a.mercury_industry_name, \n",
    "a.Managed_flag,\n",
    "a.account_type,\n",
    "sum(a.txn_cnt) as txn_cnt,\n",
    "sum(a.ntpv) as ntpv,\n",
    "sum(a.revenue) as revenue,\n",
    "sum(a.margin) as margin,\n",
    "sum(a.cost) as cost,\n",
    "sum(a.loss) as loss\n",
    "from `pypl-edw`.pp_oap_mugilamanivannan_t.merchant_base_table a\n",
    "    where mth_id between 1466 and 1474\n",
    "group by 1,2,3,4,5,6,7,8,9,10,11,12,13,14,15,16,17,18,19,20,21\n",
    "union all\n",
    "select\n",
    "b.mth_id,\n",
    "b.transaction_month,\n",
    "b.cust_id,\n",
    "b.pp_bt_cust_id,\n",
    "b.cust_acct_clsfn_key,\n",
    "case when upper(trim(b.sales_seg)) in ('GLOBAL ACCOUNTS') then 'GA'\n",
    " When upper(trim(b.sales_seg)) in ('A1','A2','B1') then 'ES'\n",
    " When upper(trim(b.sales_seg)) in('B2') then 'MM'\n",
    " When upper(trim(b.sales_seg)) in ('C','D','E') then 'SB'\n",
    " Else '#'\n",
    " END as sales_seg,\n",
    "b.market,\n",
    "b.sub_market,\n",
    "b.Region,  \n",
    "b.cntry_code,   \n",
    "b.prod_hier_desc as prod_grp_l1, \n",
    "b.prod_hier_l1 as prod_grp_l2,\n",
    "b.prod_hier_l2 as prod_grp_l3,\n",
    "case when b.trade_flow = 'send_only' then \"Non_Rev_Send_Only\"\n",
    "        else b.trade_flow\n",
    "        end as trade_flow,\n",
    "b.txn_prod_channel,\n",
    "b.new_x_sell_retention_flag,\n",
    "b.Activity_seg,   \n",
    "b.mercury_sector_name,\n",
    "b.mercury_industry_name, \n",
    "b.Managed_flag,\n",
    "b.account_type,\n",
    "sum(b.txn_cnt) as txn_cnt,\n",
    "sum(b.ntpv) as ntpv,\n",
    "sum(b.revenue) as revenue,\n",
    "sum(b.margin) as margin,\n",
    "sum(b.cost) as cost,\n",
    "sum(b.loss) as loss\n",
    "from `pypl-edw`.pp_scratch.Send_Only_Merchants_Details b\n",
    "    where mth_id between 1466 and 1474\n",
    "group by 1,2,3,4,5,6,7,8,9,10,11,12,13,14,15,16,17,18,19,20,21)\n",
    "    b\n",
    "    where mth_id between 1466 and 1474\n",
    "group by 1,2,3,4,5,6,7,8,9,10,11,12,13,14,15,16,17,18,19,20,21,22);"
   ]
  },
  {
   "cell_type": "markdown",
   "metadata": {
    "execution": {
     "iopub.execute_input": "2023-12-20T04:08:12.987447Z",
     "iopub.status.busy": "2023-12-20T04:08:12.986873Z",
     "iopub.status.idle": "2023-12-20T04:09:25.785023Z",
     "shell.execute_reply": "2023-12-20T04:09:25.783792Z",
     "shell.execute_reply.started": "2023-12-20T04:08:12.987377Z"
    }
   },
   "source": [
    "### Engagement KPI"
   ]
  },
  {
   "cell_type": "code",
   "execution_count": 6,
   "metadata": {
    "execution": {
     "iopub.execute_input": "2024-01-12T17:18:01.454806Z",
     "iopub.status.busy": "2024-01-12T17:18:01.453836Z",
     "iopub.status.idle": "2024-01-12T17:29:47.565007Z",
     "shell.execute_reply": "2024-01-12T17:29:47.564127Z",
     "shell.execute_reply.started": "2024-01-12T17:18:01.454706Z"
    }
   },
   "outputs": [
    {
     "data": {
      "application/vnd.jupyter.widget-view+json": {
       "model_id": "e2aba3294f47447ea48f6d5e0c9f1968",
       "version_major": 2,
       "version_minor": 0
      },
      "text/plain": [
       "HTML(value='')"
      ]
     },
     "metadata": {},
     "output_type": "display_data"
    },
    {
     "name": "stdout",
     "output_type": "stream",
     "text": [
      "job id =  8PwYeOgB4RHIY23FUwY1LQK4Kso\n",
      "Time executed =  -63840676687.584  seconds\n"
     ]
    },
    {
     "data": {
      "application/vnd.jupyter.widget-view+json": {
       "model_id": "1f18aad9f3884871bcf9b42f8038a2e5",
       "version_major": 2,
       "version_minor": 0
      },
      "text/plain": [
       "HTML(value='')"
      ]
     },
     "metadata": {},
     "output_type": "display_data"
    },
    {
     "data": {
      "application/vnd.jupyter.widget-view+json": {
       "model_id": "f17efe381c004344b10a8ebaedb56281",
       "version_major": 2,
       "version_minor": 0
      },
      "text/plain": [
       "DownloadWidget(children=(HBox(children=(Dropdown(description='File Type:', index=1, options=('tde', 'csv', 'js…"
      ]
     },
     "metadata": {},
     "output_type": "display_data"
    },
    {
     "data": {
      "text/html": [
       "<table>\n",
       "    <tr>\n",
       "        <th>cohort_year</th>\n",
       "        <th>transaction_year</th>\n",
       "        <th>cust_id</th>\n",
       "        <th>active_current_mth</th>\n",
       "        <th>Activity_seg</th>\n",
       "        <th>flag</th>\n",
       "        <th>pp_bt_cust_id</th>\n",
       "        <th>cust_acct_clsfn_key</th>\n",
       "        <th>sales_seg</th>\n",
       "        <th>market</th>\n",
       "        <th>sub_market</th>\n",
       "        <th>Region</th>\n",
       "        <th>cntry_code</th>\n",
       "        <th>prod_grp_l1</th>\n",
       "        <th>prod_grp_l2</th>\n",
       "        <th>prod_grp_l3</th>\n",
       "        <th>trade_flow</th>\n",
       "        <th>txn_prod_channel</th>\n",
       "        <th>new_x_sell_retention_flag</th>\n",
       "        <th>mercury_sector_name</th>\n",
       "        <th>mercury_industry_name</th>\n",
       "        <th>Managed_flag</th>\n",
       "        <th>account_type</th>\n",
       "    </tr>\n",
       "</table>"
      ],
      "text/plain": [
       "Empty DataFrame\n",
       "Columns: [cohort_year, transaction_year, cust_id, active_current_mth, Activity_seg, flag, pp_bt_cust_id, cust_acct_clsfn_key, sales_seg, market, sub_market, Region, cntry_code, prod_grp_l1, prod_grp_l2, prod_grp_l3, trade_flow, txn_prod_channel, new_x_sell_retention_flag, mercury_sector_name, mercury_industry_name, Managed_flag, account_type]\n",
       "Index: []\n",
       "\n",
       "[0 rows x 23 columns]"
      ]
     },
     "execution_count": 6,
     "metadata": {},
     "output_type": "execute_result"
    }
   ],
   "source": [
    "%%ppbq\n",
    "CREATE or replace TABLE `pypl-bods`.prd_globalbi_sales_t.merchant_base_engagement_cohort as\n",
    " \n",
    "WITH cohort_data AS (\n",
    "  SELECT\n",
    "    cust_id,\n",
    "    EXTRACT(YEAR FROM transaction_month) AS cohort_year,\n",
    "  FROM\n",
    "    `pypl-bods`.prd_globalbi_sales_t.merchant_base_final_table_v2\n",
    "  GROUP BY\n",
    "   1,2 \n",
    ")\n",
    " \n",
    "SELECT \n",
    "  b.cohort_year,\n",
    "  EXTRACT(YEAR FROM a.transaction_month) AS transaction_year,\n",
    "  b.cust_id,\n",
    "  a.transaction_month AS active_current_mth,\n",
    "  a.Activity_seg,\n",
    "  a.flag,\n",
    "  a.pp_bt_cust_id,\n",
    "  a.cust_acct_clsfn_key,\n",
    "  a.sales_seg,\n",
    "  a.market,\n",
    "  a.sub_market,\n",
    "    a.Region,\n",
    "    a.cntry_code,\n",
    "    a.prod_grp_l1,\n",
    "    a.prod_grp_l2,\n",
    "    a.prod_grp_l3,\n",
    "    a.trade_flow,\n",
    "    a.txn_prod_channel,\n",
    "    a.new_x_sell_retention_flag,\n",
    "    a.mercury_sector_name,\n",
    "    a.mercury_industry_name,\n",
    "    a.Managed_flag,\n",
    "    a.account_type,\n",
    "FROM\n",
    "  `pypl-bods`.prd_globalbi_sales_t.merchant_base_final_table_v2 a\n",
    "JOIN\n",
    "   cohort_data b\n",
    "ON\n",
    "  a.cust_id = b.cust_id\n",
    "GROUP BY\n",
    "  1,2,3,4,5,6,7,8,9,10,11,12,13,14,15,16,17,18,19,20,21,22,23"
   ]
  },
  {
   "cell_type": "markdown",
   "metadata": {},
   "source": [
    "### Segment KPI"
   ]
  },
  {
   "cell_type": "code",
   "execution_count": 7,
   "metadata": {
    "execution": {
     "iopub.execute_input": "2024-01-12T17:29:47.566526Z",
     "iopub.status.busy": "2024-01-12T17:29:47.566332Z",
     "iopub.status.idle": "2024-01-12T17:30:30.276616Z",
     "shell.execute_reply": "2024-01-12T17:30:30.275679Z",
     "shell.execute_reply.started": "2024-01-12T17:29:47.566501Z"
    }
   },
   "outputs": [
    {
     "data": {
      "application/vnd.jupyter.widget-view+json": {
       "model_id": "3a8a3206717944e099b5615c67561179",
       "version_major": 2,
       "version_minor": 0
      },
      "text/plain": [
       "HTML(value='')"
      ]
     },
     "metadata": {},
     "output_type": "display_data"
    },
    {
     "name": "stdout",
     "output_type": "stream",
     "text": [
      "job id =  Pwc9MFhXEYR8t32ZQoIDaoshTKX\n",
      "Time executed =  -63840677393.668  seconds\n"
     ]
    },
    {
     "data": {
      "application/vnd.jupyter.widget-view+json": {
       "model_id": "f9e9b214dbd8462b9385607c1883f10c",
       "version_major": 2,
       "version_minor": 0
      },
      "text/plain": [
       "HTML(value='')"
      ]
     },
     "metadata": {},
     "output_type": "display_data"
    },
    {
     "data": {
      "application/vnd.jupyter.widget-view+json": {
       "model_id": "5b933b577c5540dca30e9adbd7d6dec2",
       "version_major": 2,
       "version_minor": 0
      },
      "text/plain": [
       "DownloadWidget(children=(HBox(children=(Dropdown(description='File Type:', index=1, options=('tde', 'csv', 'js…"
      ]
     },
     "metadata": {},
     "output_type": "display_data"
    },
    {
     "data": {
      "text/html": [
       "<table>\n",
       "    <tr>\n",
       "        <th>cust_id</th>\n",
       "        <th>entity_id</th>\n",
       "        <th>mth_id</th>\n",
       "    </tr>\n",
       "</table>"
      ],
      "text/plain": [
       "Empty DataFrame\n",
       "Columns: [cust_id, entity_id, mth_id]\n",
       "Index: []"
      ]
     },
     "execution_count": 7,
     "metadata": {},
     "output_type": "execute_result"
    }
   ],
   "source": [
    "create or replace table `pypl-bods`.prd_globalbi_sales_t.merchant_segment_intermediate_v1\n",
    "as (\n",
    "select cust_id,entity_id,mth_id from\n",
    "(\n",
    "select \n",
    "mth_id\n",
    ",cust_id\n",
    ",entity_id\n",
    "from `pypl-edw`.pp_ent_anlytcs_views.fact_merch_prod_hier_mth \n",
    "where mth_id >= 1453  -- replace with Jan'21 till last month 1453 to 1487\n",
    "and sales_seg in ('Global Accounts','A1','A2','B1','B2','C','D','E')  \n",
    "and prod_hier_desc not in ('eBay MOR','eBay Non-MOR')\n",
    "and cust_acct_clsfn_key in (2,8,-99,21) \n",
    "and (is_partner_y_n is null or is_partner_y_n <>'Y')\n",
    "and cust_id<>'0'\n",
    "group by 1,2,3\n",
    "qualify row_number() over(partition by cust_id order by mth_id desc)=1)\n",
    "group by 1,2,3);"
   ]
  },
  {
   "cell_type": "code",
   "execution_count": null,
   "metadata": {
    "execution": {
     "iopub.execute_input": "2024-01-12T17:30:30.277977Z",
     "iopub.status.busy": "2024-01-12T17:30:30.277784Z"
    }
   },
   "outputs": [
    {
     "data": {
      "application/vnd.jupyter.widget-view+json": {
       "model_id": "4c76ffc1c64f4f3aa65cc28e1ae0bf2c",
       "version_major": 2,
       "version_minor": 0
      },
      "text/plain": [
       "HTML(value='')"
      ]
     },
     "metadata": {},
     "output_type": "display_data"
    },
    {
     "name": "stdout",
     "output_type": "stream",
     "text": [
      "job id =  sVO1vHe2TadoUMvvNEx3syAt748\n",
      "Time executed =  -63840677436.564  seconds\n"
     ]
    }
   ],
   "source": [
    "create or replace table `pypl-bods`.prd_globalbi_sales_t.merchant_segment_intermediate_v2\n",
    "as (\n",
    "    select \n",
    "a.mth_id,\n",
    "parse_date('%Y-%m',b.mth_yyyy_mm_name) as transaction_month\n",
    ",a1.cust_id\n",
    ",a1.entity_id,\n",
    "a.pp_bt_cust_id,\n",
    "a.cust_acct_clsfn_key,\n",
    "case when upper(trim(a.sales_seg)) in ('GLOBAL ACCOUNTS') then 'GA'\n",
    " When upper(trim(a.sales_seg)) in ('A1','A2','B1') then 'ES'\n",
    " When upper(trim(a.sales_seg)) in('B2') then 'MM'\n",
    " When upper(trim(a.sales_seg)) in ('C','D','E') then 'SB'\n",
    " Else '#'\n",
    " END as sales_seg,\n",
    "a.market,\n",
    "a.sub_market,\n",
    "CASE WHEN a.sub_market in ('UK', 'CHINA') then a.sub_market\n",
    "when a.cntry_code in ('US', 'CA', 'DE', 'AU', 'FR', 'IT','ES', 'BR','MX', 'JP') then a.cntry_code\n",
    "when a.sub_market in ('DEATCH', 'ICE', 'NEU', 'SEU') and a.cntry_code not in ('US', 'CA', 'DE', 'AU', 'FR', 'IT','ES', 'BR','MX', 'JP', 'CN') then 'Rest of Europe'\n",
    "else 'Rest of World' end as Region,  \n",
    "a.cntry_code,   \n",
    "CASE WHEN upper(trim(a.prod_hier_desc))='BRAINTREE' then 'Braintree' \n",
    "     WHEN upper(trim(a.prod_hier_l1)) IN ('BRANDED WALLET-DIRECT', 'BRANDED WALLET-MARKETPLACE','BRANDED WALLET-PARTNERS', 'EBAY') THEN 'Wallet'\n",
    "     WHEN upper(trim(a.prod_hier_l1)) IN ('UNBRANDED CARD PROCESSING-DIRECT', 'UNBRANDED CARD PROCESSING-MARKETPLACE','UNBRANDED CARD PROCESSING-PARTNERS') THEN 'PP-Cards'     \n",
    "     WHEN upper(trim(a.prod_hier_l1)) IN ('APM-DIRECT', 'APM-MARKETPLACE', 'APM-PARTNERS', 'PWV-DIRECT', 'PWV-MARKETPLACE', 'PWV-PARTNERS',\n",
    "                                         'CREDIT-DIRECT', 'CREDIT-MARKETPLACE', 'CREDIT-PARTNERS') THEN 'Other-XO'\n",
    "     ELSE 'Non-XO'\n",
    "END prod_grp_l1,   \n",
    "CASE WHEN upper(trim(a.prod_hier_desc))='BRAINTREE' then 'Braintree' -- Braintree \n",
    "     WHEN upper(trim(a.prod_hier_l3)) in ('EC - LATEST', 'EC - BETTER', 'EC - LEGACY', 'PUI - BETTER', 'PUI - LEGACY') and upper(trim(a.prod_hier_desc)) <> 'WPS NON RECURRING' then 'EC' --Wallet\n",
    "     WHEN (upper(trim(a.prod_hier_l3)) in ('WPS - LEGACY') or upper(trim(a.prod_hier_desc)) = 'WPS NON RECURRING') and (upper(trim(a.prod_hier_l3)) <> 'INTEGRATED QR') then 'WPS'   --Wallet\n",
    "     WHEN upper(trim(a.prod_hier_l1)) = 'EBAY' THEN 'eBay'  --Wallet\n",
    "     WHEN upper(trim(a.prod_hier_l2)) in ('ACDC', 'BCDC', 'PRO DCC') THEN a.prod_hier_l2  -- PP Cards\n",
    "     WHEN upper(trim(a.prod_hier_l1)) like 'UNBRANDED CARD PROCESSING' and upper(trim(a.prod_hier_l2)) not in ('ACDC', 'BCDC', 'PRO DCC', 'BRAINTREE') THEN 'PPCards-Oth' -- PP Cards\n",
    "     WHEN upper(trim(a.prod_hier_l1)) IN ('APM-DIRECT', 'APM-MARKETPLACE', 'APM-PARTNERS','PWV-DIRECT', 'PWV-MARKETPLACE',\n",
    "                                          'PWV-PARTNERS') THEN 'APM (INCL PWV)' -- Other XO\n",
    "     WHEN upper(trim(a.prod_hier_l1)) IN ('CREDIT-DIRECT', 'CREDIT-MARKETPLACE', 'CREDIT-PARTNERS') THEN 'Credit' -- Other XO\n",
    "     WHEN upper(trim(a.prod_hier_l2)) in ('INVOICING', 'ZETTLE', 'PAYOUTS') then a.prod_hier_l2\n",
    "     WHEN upper(trim(a.prod_hier_l2)) in ('P2P-F&F', 'P2P-G&S') then 'P2P'\n",
    "     ELSE 'Oth'\n",
    "END AS prod_grp_l2,\n",
    "CASE WHEN upper(trim(a.prod_hier_desc)) = 'BRAINTREE' then 'Braintree' -- Braintree\n",
    "     WHEN upper(trim(a.prod_hier_l1)) = 'EBAY' THEN 'eBay' --Wallet\n",
    "     WHEN upper(trim(a.prod_hier_desc)) = 'MS EC RECURRING' and upper(trim(a.prod_hier_l2)) not in ('APM' , 'PWV', 'PPC 2ND BTN', 'ACDC', 'BCDC') then 'EC Recurring'  --Wallet\n",
    "     WHEN upper(trim(a.prod_hier_desc)) = 'MS EC Non Recurring' and upper(trim(a.prod_hier_l2)) not in ('APM' , 'PWV', 'PPC 2ND BTN', 'ACDC', 'BCDC') then 'EC Non Recurring' --Wallet\n",
    "     WHEN upper(trim(a.prod_hier_desc)) in ('WPS RECURRING', 'WPS NON RECURRING')  and  upper(trim(a.prod_hier_l2)) not in ('APM' , 'PWV', 'PPC 2ND BTN', 'ACDC', 'BCDC', 'INTEGRATED QR')  then a.prod_hier_desc --Wallet\n",
    "     WHEN upper(trim(a.prod_hier_l3)) in ('EC - LATEST', 'EC - BETTER', 'EC - LEGACY', 'PUI - BETTER', 'PUI - LEGACY') then 'EC Non Recurring' --Wallet\n",
    "     WHEN upper(trim(a.prod_hier_l3)) in ('WPS - LEGACY') then 'WPS Non Recurring'  --Wallet\n",
    "     WHEN upper(trim(a.prod_hier_l2)) in ('ACDC', 'BCDC', 'PRO DCC') THEN a.prod_hier_l2 -- PP Cards     \n",
    "     WHEN upper(trim(a.prod_hier_l2)) = 'HSS UNBRANDED' then 'HSS' -- PP Cards \n",
    "     WHEN upper(trim(a.prod_hier_l2)) = 'PP PLUS - UNBRANDED' then 'PP Plus'  -- PP Cards \n",
    "     WHEN upper(trim(a.prod_hier_l2)) = 'PPFM UNBRANDED' then 'PPFM'  -- PP Cards \n",
    "     WHEN upper(trim(a.prod_hier_l1)) IN ('APM-DIRECT', 'APM-MARKETPLACE', 'APM-PARTNERS') THEN 'APM'  -- Other XO\n",
    "     WHEN upper(trim(a.prod_hier_l1)) IN ('PWV-DIRECT', 'PWV-MARKETPLACE', 'PWV-PARTNERS') THEN 'PWV'  -- Other XO\n",
    "     WHEN upper(trim(a.prod_hier_l1)) IN ('CREDIT-DIRECT', 'CREDIT-MARKETPLACE', 'CREDIT-PARTNERS') THEN 'Credit'  -- Other XO\n",
    "     WHEN upper(trim(a.prod_hier_l2)) in ('INVOICING', 'ZETTLE', 'P2P-G&S', 'VIRTUAL TERMINAL', 'PAYPAL HERE') then \n",
    "         upper(trim(a.prod_hier_l2))\n",
    "     WHEN upper(trim(a.prod_hier_l1)) IN ('P2P-F&F RECV', 'P2P-F&F SEND', 'MS OTHERS', 'PAYOUTS RECV', 'PAYOUTS SEND') \n",
    "         then upper(trim(a.prod_hier_l1))\n",
    "     WHEN upper(trim(a.prod_hier_l2)) in ('INTEGRATED QR', 'STATIC QR') then 'QRC' \n",
    "     WHEN upper(trim(a.prod_hier_l2)) = 'TOKENIZATION & DISCOVER POS' THEN 'POS'\n",
    "     ELSE 'MS OTHERS'\n",
    "END AS prod_grp_l3,\n",
    "case when a.trade_flow = 'NA' then 'BT'\n",
    "else a.trade_flow\n",
    "end as trade_flow,\n",
    "a.txn_prod_channel,\n",
    "a.new_x_sell_retention_flag,\n",
    "-- a.eds_flag,\n",
    "-- a.ews_flag,\n",
    "-- a.ems_flag,\n",
    "case \n",
    "when new_flag='Y' then 'New'\n",
    "when eds_flag='Y' then 'EDS'\n",
    "when ews_flag='Y' then 'EWS'\n",
    "when ems_flag='Y' then 'EMS'\n",
    "else 'Rest' end as Activity_seg,   \n",
    "d.mercury_sector_name as mercury_sector_name,\n",
    "d.mercury_industry_name as mercury_industry_name,\n",
    "CASE \n",
    "WHEN upper(trim(m.cust_id)) is not null or upper(trim(a.prod_hier_desc))='EBAY MOR' then 'MANAGED PATH' \n",
    "WHEN upper(trim(a.txn_prod_channel)) in ('PARTNER','MARKETPLACE') or \n",
    "upper(trim(a.prod_hier_desc))='EBAY NON-MOR' then 'CONNECTED PATH'\n",
    "else 'DIRECT' \n",
    "END as Managed_flag,\n",
    "CASE\n",
    "WHEN a.cust_acct_type_code = 0 THEN 'Personal'\n",
    "WHEN a.cust_acct_type_code = 1 THEN 'Premier'\n",
    "ELSE 'Business'\n",
    "END AS account_type,\n",
    "sum(rcv_txn_cnt)  txn_cnt,\n",
    "sum(rcv_ntpv_pln_usd_amt ) ntpv,\n",
    "sum(a.net_rev_pln_usd_amt) AS revenue,\n",
    "sum(a.net_margin_pln_usd_amt) AS margin,\n",
    "sum(a.net_cost_pln_usd_amt) AS cost,\n",
    "sum(a.net_loss_pln_usd_amt) AS loss\n",
    "from `pypl-edw`.pp_ent_anlytcs_views.fact_merch_prod_hier_mth a\n",
    "--LEFT JOIN `pypl-edw`.pp_discovery_views.dim_customer AS attr \n",
    "--ON upper(rtrim(a.pp_bt_cust_id)) = upper(rtrim(attr.cust_id))\n",
    "LEFT OUTER JOIN `pypl-edw`.pp_discovery_views.dim_calendar_month AS b \n",
    "ON trim(CAST(a.mth_id as STRING)) = trim(CAST(b.mth_id as STRING))\n",
    "LEFT JOIN (select cust_id,mercury_sector_name,mercury_industry_name from `pypl-edw`.pp_scratch.mercury_industry_details\n",
    "where dt=(select max(dt) from pypl-edw.pp_scratch.mercury_industry_details)\n",
    "group by 1,2,3) d on a.cust_id = d.cust_id  \n",
    "LEFT JOIN  pypl-edw.pp_peak_views.dim_mam_merch_ssot m \n",
    "on upper(rtrim(a.pp_bt_cust_id)) = upper(rtrim(m.cust_id))\n",
    "LEFT JOIN `pypl-bods`.prd_globalbi_sales_t.merchant_segment_intermediate_v1 a1\n",
    "on upper(rtrim(a.cust_id)) = upper(trim(a1.cust_id))\n",
    "where a.mth_id >= 1453 -- replace with Jan'21 till last month 1453 to 1487\n",
    "   and upper(trim(a.sales_seg)) in ('A1','A2','B1','B2','C','D','E','GLOBAL ACCOUNTS')  \n",
    "    and a.cust_acct_clsfn_key in (2,8,-99,21)\n",
    "group by 1,2,3,4,5,6,7,8,9,10,11,12,13,14,15,16,17,18,19,20,21,22);"
   ]
  },
  {
   "cell_type": "code",
   "execution_count": 11,
   "metadata": {
    "execution": {
     "iopub.execute_input": "2024-01-11T12:36:13.012650Z",
     "iopub.status.busy": "2024-01-11T12:36:13.012167Z",
     "iopub.status.idle": "2024-01-11T12:36:20.473260Z",
     "shell.execute_reply": "2024-01-11T12:36:20.472264Z",
     "shell.execute_reply.started": "2024-01-11T12:36:13.012590Z"
    }
   },
   "outputs": [
    {
     "data": {
      "application/vnd.jupyter.widget-view+json": {
       "model_id": "8fc0fb118061485d8773012470383c61",
       "version_major": 2,
       "version_minor": 0
      },
      "text/plain": [
       "HTML(value='')"
      ]
     },
     "metadata": {},
     "output_type": "display_data"
    },
    {
     "name": "stdout",
     "output_type": "stream",
     "text": [
      "job id =  CMfkncuyJsRNxbaTDVgNM81OGMk\n",
      "Time executed =  -63840573388.959  seconds\n",
      "."
     ]
    },
    {
     "data": {
      "application/vnd.jupyter.widget-view+json": {
       "model_id": "1da5d4988be34b4298a72771dd4c004f",
       "version_major": 2,
       "version_minor": 0
      },
      "text/plain": [
       "HTML(value='')"
      ]
     },
     "metadata": {},
     "output_type": "display_data"
    },
    {
     "data": {
      "application/vnd.jupyter.widget-view+json": {
       "model_id": "41ab6da0cd5b416bacd67363ab7a16c5",
       "version_major": 2,
       "version_minor": 0
      },
      "text/plain": [
       "DownloadWidget(children=(HBox(children=(Dropdown(description='File Type:', index=1, options=('tde', 'csv', 'js…"
      ]
     },
     "metadata": {},
     "output_type": "display_data"
    },
    {
     "data": {
      "text/html": [
       "<table>\n",
       "    <tr>\n",
       "        <th>cust_acct_clsfn_key</th>\n",
       "    </tr>\n",
       "    <tr>\n",
       "        <td>21</td>\n",
       "    </tr>\n",
       "    <tr>\n",
       "        <td>8</td>\n",
       "    </tr>\n",
       "    <tr>\n",
       "        <td>2</td>\n",
       "    </tr>\n",
       "    <tr>\n",
       "        <td>-99</td>\n",
       "    </tr>\n",
       "</table>"
      ],
      "text/plain": [
       "  cust_acct_clsfn_key\n",
       "0                  21\n",
       "1                   8\n",
       "2                   2\n",
       "3                 -99"
      ]
     },
     "execution_count": 11,
     "metadata": {},
     "output_type": "execute_result"
    }
   ],
   "source": [
    "select distinct cust_acct_clsfn_key from `pypl-bods`.prd_globalbi_sales_t.merchant_segment_intermediate_v2 \n",
    "group by 1"
   ]
  },
  {
   "cell_type": "code",
   "execution_count": null,
   "metadata": {},
   "outputs": [],
   "source": []
  }
 ],
 "metadata": {
  "kernelspec": {
   "display_name": "BigQuery",
   "language": "",
   "name": "bigquerykernel"
  },
  "language_info": {
   "codemirror_mode": "text/x-sql",
   "mimetype": "text/x-sql",
   "name": "SQL",
   "pygments_lexer": "r"
  }
 },
 "nbformat": 4,
 "nbformat_minor": 4
}
